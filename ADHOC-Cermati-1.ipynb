{
 "cells": [
  {
   "cell_type": "code",
   "execution_count": 3,
   "metadata": {
    "collapsed": true
   },
   "outputs": [],
   "source": [
    "import numpy as np\n",
    "import os\n",
    "os.chdir('/axp/rim/mldsml/dev/Shaique/ProbR/GBM/Adhoc/Cermati2')\n",
    "os.getcwd()\n",
    "import pandas as pd\n",
    "#from datetime import datetime\n",
    "import numpy as np "
   ]
  },
  {
   "cell_type": "code",
   "execution_count": 4,
   "metadata": {
    "collapsed": true
   },
   "outputs": [],
   "source": [
    "#lets take a look at the training data"
   ]
  },
  {
   "cell_type": "code",
   "execution_count": 22,
   "metadata": {
    "collapsed": true
   },
   "outputs": [],
   "source": [
    "train_app =pd.read_csv(\"app_train.csv\")"
   ]
  },
  {
   "cell_type": "code",
   "execution_count": 23,
   "metadata": {},
   "outputs": [
    {
     "data": {
      "text/html": [
       "<div>\n",
       "<style scoped>\n",
       "    .dataframe tbody tr th:only-of-type {\n",
       "        vertical-align: middle;\n",
       "    }\n",
       "\n",
       "    .dataframe tbody tr th {\n",
       "        vertical-align: top;\n",
       "    }\n",
       "\n",
       "    .dataframe thead th {\n",
       "        text-align: right;\n",
       "    }\n",
       "</style>\n",
       "<table border=\"1\" class=\"dataframe\">\n",
       "  <thead>\n",
       "    <tr style=\"text-align: right;\">\n",
       "      <th></th>\n",
       "      <th>Unnamed: 0</th>\n",
       "      <th>LN_ID</th>\n",
       "      <th>TARGET</th>\n",
       "      <th>CONTRACT_TYPE</th>\n",
       "      <th>GENDER</th>\n",
       "      <th>NUM_CHILDREN</th>\n",
       "      <th>INCOME</th>\n",
       "      <th>APPROVED_CREDIT</th>\n",
       "      <th>ANNUITY</th>\n",
       "      <th>PRICE</th>\n",
       "      <th>...</th>\n",
       "      <th>DAYS_AGE</th>\n",
       "      <th>DAYS_WORK</th>\n",
       "      <th>DAYS_REGISTRATION</th>\n",
       "      <th>DAYS_ID_CHANGE</th>\n",
       "      <th>WEEKDAYS_APPLY</th>\n",
       "      <th>HOUR_APPLY</th>\n",
       "      <th>ORGANIZATION_TYPE</th>\n",
       "      <th>EXT_SCORE_1</th>\n",
       "      <th>EXT_SCORE_2</th>\n",
       "      <th>EXT_SCORE_3</th>\n",
       "    </tr>\n",
       "  </thead>\n",
       "  <tbody>\n",
       "    <tr>\n",
       "      <th>0</th>\n",
       "      <td>201468</td>\n",
       "      <td>333538</td>\n",
       "      <td>0</td>\n",
       "      <td>Revolving loans</td>\n",
       "      <td>F</td>\n",
       "      <td>1</td>\n",
       "      <td>67500.0</td>\n",
       "      <td>202500.0</td>\n",
       "      <td>10125.0</td>\n",
       "      <td>202500.0</td>\n",
       "      <td>...</td>\n",
       "      <td>-11539</td>\n",
       "      <td>-921</td>\n",
       "      <td>-119.0</td>\n",
       "      <td>-2757</td>\n",
       "      <td>TUESDAY</td>\n",
       "      <td>18</td>\n",
       "      <td>Business Entity Type 3</td>\n",
       "      <td>0.572805</td>\n",
       "      <td>0.608276</td>\n",
       "      <td>NaN</td>\n",
       "    </tr>\n",
       "    <tr>\n",
       "      <th>1</th>\n",
       "      <td>264803</td>\n",
       "      <td>406644</td>\n",
       "      <td>0</td>\n",
       "      <td>Cash loans</td>\n",
       "      <td>F</td>\n",
       "      <td>1</td>\n",
       "      <td>202500.0</td>\n",
       "      <td>976711.5</td>\n",
       "      <td>49869.0</td>\n",
       "      <td>873000.0</td>\n",
       "      <td>...</td>\n",
       "      <td>-15743</td>\n",
       "      <td>-4482</td>\n",
       "      <td>-1797.0</td>\n",
       "      <td>-2455</td>\n",
       "      <td>TUESDAY</td>\n",
       "      <td>14</td>\n",
       "      <td>Other</td>\n",
       "      <td>0.655600</td>\n",
       "      <td>0.684298</td>\n",
       "      <td>NaN</td>\n",
       "    </tr>\n",
       "    <tr>\n",
       "      <th>2</th>\n",
       "      <td>137208</td>\n",
       "      <td>259130</td>\n",
       "      <td>0</td>\n",
       "      <td>Cash loans</td>\n",
       "      <td>F</td>\n",
       "      <td>0</td>\n",
       "      <td>180000.0</td>\n",
       "      <td>407520.0</td>\n",
       "      <td>25060.5</td>\n",
       "      <td>360000.0</td>\n",
       "      <td>...</td>\n",
       "      <td>-20775</td>\n",
       "      <td>365243</td>\n",
       "      <td>-8737.0</td>\n",
       "      <td>-4312</td>\n",
       "      <td>THURSDAY</td>\n",
       "      <td>14</td>\n",
       "      <td>NA1</td>\n",
       "      <td>NaN</td>\n",
       "      <td>0.580687</td>\n",
       "      <td>0.749022</td>\n",
       "    </tr>\n",
       "    <tr>\n",
       "      <th>3</th>\n",
       "      <td>269220</td>\n",
       "      <td>411997</td>\n",
       "      <td>0</td>\n",
       "      <td>Cash loans</td>\n",
       "      <td>M</td>\n",
       "      <td>0</td>\n",
       "      <td>225000.0</td>\n",
       "      <td>808650.0</td>\n",
       "      <td>26086.5</td>\n",
       "      <td>675000.0</td>\n",
       "      <td>...</td>\n",
       "      <td>-20659</td>\n",
       "      <td>-10455</td>\n",
       "      <td>-4998.0</td>\n",
       "      <td>-4010</td>\n",
       "      <td>WEDNESDAY</td>\n",
       "      <td>10</td>\n",
       "      <td>Culture</td>\n",
       "      <td>NaN</td>\n",
       "      <td>0.623740</td>\n",
       "      <td>0.710674</td>\n",
       "    </tr>\n",
       "    <tr>\n",
       "      <th>4</th>\n",
       "      <td>122096</td>\n",
       "      <td>241559</td>\n",
       "      <td>0</td>\n",
       "      <td>Revolving loans</td>\n",
       "      <td>M</td>\n",
       "      <td>0</td>\n",
       "      <td>135000.0</td>\n",
       "      <td>180000.0</td>\n",
       "      <td>9000.0</td>\n",
       "      <td>180000.0</td>\n",
       "      <td>...</td>\n",
       "      <td>-9013</td>\n",
       "      <td>-1190</td>\n",
       "      <td>-3524.0</td>\n",
       "      <td>-1644</td>\n",
       "      <td>SUNDAY</td>\n",
       "      <td>11</td>\n",
       "      <td>Construction</td>\n",
       "      <td>0.175511</td>\n",
       "      <td>0.492994</td>\n",
       "      <td>0.085595</td>\n",
       "    </tr>\n",
       "  </tbody>\n",
       "</table>\n",
       "<p>5 rows × 24 columns</p>\n",
       "</div>"
      ],
      "text/plain": [
       "   Unnamed: 0   LN_ID  TARGET    CONTRACT_TYPE GENDER  NUM_CHILDREN    INCOME  \\\n",
       "0      201468  333538       0  Revolving loans      F             1   67500.0   \n",
       "1      264803  406644       0       Cash loans      F             1  202500.0   \n",
       "2      137208  259130       0       Cash loans      F             0  180000.0   \n",
       "3      269220  411997       0       Cash loans      M             0  225000.0   \n",
       "4      122096  241559       0  Revolving loans      M             0  135000.0   \n",
       "\n",
       "   APPROVED_CREDIT  ANNUITY     PRICE     ...      DAYS_AGE DAYS_WORK  \\\n",
       "0         202500.0  10125.0  202500.0     ...        -11539      -921   \n",
       "1         976711.5  49869.0  873000.0     ...        -15743     -4482   \n",
       "2         407520.0  25060.5  360000.0     ...        -20775    365243   \n",
       "3         808650.0  26086.5  675000.0     ...        -20659    -10455   \n",
       "4         180000.0   9000.0  180000.0     ...         -9013     -1190   \n",
       "\n",
       "  DAYS_REGISTRATION DAYS_ID_CHANGE  WEEKDAYS_APPLY  HOUR_APPLY  \\\n",
       "0            -119.0          -2757         TUESDAY          18   \n",
       "1           -1797.0          -2455         TUESDAY          14   \n",
       "2           -8737.0          -4312        THURSDAY          14   \n",
       "3           -4998.0          -4010       WEDNESDAY          10   \n",
       "4           -3524.0          -1644          SUNDAY          11   \n",
       "\n",
       "        ORGANIZATION_TYPE  EXT_SCORE_1 EXT_SCORE_2  EXT_SCORE_3  \n",
       "0  Business Entity Type 3     0.572805    0.608276          NaN  \n",
       "1                   Other     0.655600    0.684298          NaN  \n",
       "2                     NA1          NaN    0.580687     0.749022  \n",
       "3                 Culture          NaN    0.623740     0.710674  \n",
       "4            Construction     0.175511    0.492994     0.085595  \n",
       "\n",
       "[5 rows x 24 columns]"
      ]
     },
     "execution_count": 23,
     "metadata": {},
     "output_type": "execute_result"
    }
   ],
   "source": [
    "train_app.head()"
   ]
  },
  {
   "cell_type": "code",
   "execution_count": 24,
   "metadata": {},
   "outputs": [
    {
     "data": {
      "text/plain": [
       "(61503, 24)"
      ]
     },
     "execution_count": 24,
     "metadata": {},
     "output_type": "execute_result"
    }
   ],
   "source": [
    "train_app.shape"
   ]
  },
  {
   "cell_type": "code",
   "execution_count": 25,
   "metadata": {},
   "outputs": [
    {
     "data": {
      "text/plain": [
       "61503"
      ]
     },
     "execution_count": 25,
     "metadata": {},
     "output_type": "execute_result"
    }
   ],
   "source": [
    "train_app.LN_ID.nunique()"
   ]
  },
  {
   "cell_type": "code",
   "execution_count": null,
   "metadata": {
    "collapsed": true
   },
   "outputs": [],
   "source": [
    "#we see that the data is at the LN_ID level,So our first approach will be to look at the otehr data sets and see at what level is that data available\n"
   ]
  },
  {
   "cell_type": "code",
   "execution_count": 8,
   "metadata": {},
   "outputs": [
    {
     "data": {
      "text/html": [
       "<div>\n",
       "<style scoped>\n",
       "    .dataframe tbody tr th:only-of-type {\n",
       "        vertical-align: middle;\n",
       "    }\n",
       "\n",
       "    .dataframe tbody tr th {\n",
       "        vertical-align: top;\n",
       "    }\n",
       "\n",
       "    .dataframe thead th {\n",
       "        text-align: right;\n",
       "    }\n",
       "</style>\n",
       "<table border=\"1\" class=\"dataframe\">\n",
       "  <thead>\n",
       "    <tr style=\"text-align: right;\">\n",
       "      <th></th>\n",
       "      <th>Unnamed: 0</th>\n",
       "      <th>SK_ID_PREV</th>\n",
       "      <th>LN_ID</th>\n",
       "      <th>CONTRACT_TYPE</th>\n",
       "      <th>ANNUITY</th>\n",
       "      <th>APPLICATION</th>\n",
       "      <th>APPROVED_CREDIT</th>\n",
       "      <th>AMT_DOWN_PAYMENT</th>\n",
       "      <th>PRICE</th>\n",
       "      <th>WEEKDAYS_APPLY</th>\n",
       "      <th>HOUR_APPLY</th>\n",
       "      <th>CONTRACT_STATUS</th>\n",
       "      <th>DAYS_DECISION</th>\n",
       "      <th>TERM_PAYMENT</th>\n",
       "      <th>YIELD_GROUP</th>\n",
       "      <th>FIRST_DRAW</th>\n",
       "      <th>FIRST_DUE</th>\n",
       "      <th>TERMINATION</th>\n",
       "      <th>NFLAG_INSURED_ON_APPROVAL</th>\n",
       "    </tr>\n",
       "  </thead>\n",
       "  <tbody>\n",
       "    <tr>\n",
       "      <th>0</th>\n",
       "      <td>0</td>\n",
       "      <td>2030495</td>\n",
       "      <td>271877</td>\n",
       "      <td>Consumer loans</td>\n",
       "      <td>1730.430</td>\n",
       "      <td>17145.0</td>\n",
       "      <td>17145.0</td>\n",
       "      <td>0.0</td>\n",
       "      <td>17145.0</td>\n",
       "      <td>SATURDAY</td>\n",
       "      <td>15</td>\n",
       "      <td>Approved</td>\n",
       "      <td>-73</td>\n",
       "      <td>12.0</td>\n",
       "      <td>middle</td>\n",
       "      <td>365243.0</td>\n",
       "      <td>-42.0</td>\n",
       "      <td>-37.0</td>\n",
       "      <td>0.0</td>\n",
       "    </tr>\n",
       "    <tr>\n",
       "      <th>1</th>\n",
       "      <td>3</td>\n",
       "      <td>2819243</td>\n",
       "      <td>176158</td>\n",
       "      <td>Cash loans</td>\n",
       "      <td>47041.335</td>\n",
       "      <td>450000.0</td>\n",
       "      <td>470790.0</td>\n",
       "      <td>NaN</td>\n",
       "      <td>450000.0</td>\n",
       "      <td>MONDAY</td>\n",
       "      <td>7</td>\n",
       "      <td>Approved</td>\n",
       "      <td>-512</td>\n",
       "      <td>12.0</td>\n",
       "      <td>middle</td>\n",
       "      <td>365243.0</td>\n",
       "      <td>-482.0</td>\n",
       "      <td>-177.0</td>\n",
       "      <td>1.0</td>\n",
       "    </tr>\n",
       "    <tr>\n",
       "      <th>2</th>\n",
       "      <td>5</td>\n",
       "      <td>1383531</td>\n",
       "      <td>199383</td>\n",
       "      <td>Cash loans</td>\n",
       "      <td>23703.930</td>\n",
       "      <td>315000.0</td>\n",
       "      <td>340573.5</td>\n",
       "      <td>NaN</td>\n",
       "      <td>315000.0</td>\n",
       "      <td>SATURDAY</td>\n",
       "      <td>8</td>\n",
       "      <td>Approved</td>\n",
       "      <td>-684</td>\n",
       "      <td>18.0</td>\n",
       "      <td>low_normal</td>\n",
       "      <td>365243.0</td>\n",
       "      <td>-654.0</td>\n",
       "      <td>-137.0</td>\n",
       "      <td>1.0</td>\n",
       "    </tr>\n",
       "    <tr>\n",
       "      <th>3</th>\n",
       "      <td>6</td>\n",
       "      <td>2315218</td>\n",
       "      <td>175704</td>\n",
       "      <td>Cash loans</td>\n",
       "      <td>NaN</td>\n",
       "      <td>0.0</td>\n",
       "      <td>0.0</td>\n",
       "      <td>NaN</td>\n",
       "      <td>NaN</td>\n",
       "      <td>TUESDAY</td>\n",
       "      <td>11</td>\n",
       "      <td>Canceled</td>\n",
       "      <td>-14</td>\n",
       "      <td>NaN</td>\n",
       "      <td>NA1</td>\n",
       "      <td>NaN</td>\n",
       "      <td>NaN</td>\n",
       "      <td>NaN</td>\n",
       "      <td>NaN</td>\n",
       "    </tr>\n",
       "    <tr>\n",
       "      <th>4</th>\n",
       "      <td>10</td>\n",
       "      <td>1715995</td>\n",
       "      <td>447712</td>\n",
       "      <td>Cash loans</td>\n",
       "      <td>11368.620</td>\n",
       "      <td>270000.0</td>\n",
       "      <td>335754.0</td>\n",
       "      <td>NaN</td>\n",
       "      <td>270000.0</td>\n",
       "      <td>FRIDAY</td>\n",
       "      <td>7</td>\n",
       "      <td>Approved</td>\n",
       "      <td>-735</td>\n",
       "      <td>54.0</td>\n",
       "      <td>low_normal</td>\n",
       "      <td>365243.0</td>\n",
       "      <td>-705.0</td>\n",
       "      <td>-334.0</td>\n",
       "      <td>1.0</td>\n",
       "    </tr>\n",
       "  </tbody>\n",
       "</table>\n",
       "</div>"
      ],
      "text/plain": [
       "   Unnamed: 0  SK_ID_PREV   LN_ID   CONTRACT_TYPE    ANNUITY  APPLICATION  \\\n",
       "0           0     2030495  271877  Consumer loans   1730.430      17145.0   \n",
       "1           3     2819243  176158      Cash loans  47041.335     450000.0   \n",
       "2           5     1383531  199383      Cash loans  23703.930     315000.0   \n",
       "3           6     2315218  175704      Cash loans        NaN          0.0   \n",
       "4          10     1715995  447712      Cash loans  11368.620     270000.0   \n",
       "\n",
       "   APPROVED_CREDIT  AMT_DOWN_PAYMENT     PRICE WEEKDAYS_APPLY  HOUR_APPLY  \\\n",
       "0          17145.0               0.0   17145.0       SATURDAY          15   \n",
       "1         470790.0               NaN  450000.0         MONDAY           7   \n",
       "2         340573.5               NaN  315000.0       SATURDAY           8   \n",
       "3              0.0               NaN       NaN        TUESDAY          11   \n",
       "4         335754.0               NaN  270000.0         FRIDAY           7   \n",
       "\n",
       "  CONTRACT_STATUS  DAYS_DECISION  TERM_PAYMENT YIELD_GROUP  FIRST_DRAW  \\\n",
       "0        Approved            -73          12.0      middle    365243.0   \n",
       "1        Approved           -512          12.0      middle    365243.0   \n",
       "2        Approved           -684          18.0  low_normal    365243.0   \n",
       "3        Canceled            -14           NaN         NA1         NaN   \n",
       "4        Approved           -735          54.0  low_normal    365243.0   \n",
       "\n",
       "   FIRST_DUE  TERMINATION  NFLAG_INSURED_ON_APPROVAL  \n",
       "0      -42.0        -37.0                        0.0  \n",
       "1     -482.0       -177.0                        1.0  \n",
       "2     -654.0       -137.0                        1.0  \n",
       "3        NaN          NaN                        NaN  \n",
       "4     -705.0       -334.0                        1.0  "
      ]
     },
     "execution_count": 8,
     "metadata": {},
     "output_type": "execute_result"
    }
   ],
   "source": [
    "prev_app.head()"
   ]
  },
  {
   "cell_type": "markdown",
   "metadata": {},
   "source": [
    "# using prevpants and prev_app data "
   ]
  },
  {
   "cell_type": "code",
   "execution_count": 11,
   "metadata": {
    "collapsed": true
   },
   "outputs": [],
   "source": [
    "install_payments = pd.read_csv(\"installment_payment.csv\")"
   ]
  },
  {
   "cell_type": "code",
   "execution_count": 21,
   "metadata": {},
   "outputs": [
    {
     "data": {
      "text/html": [
       "<div>\n",
       "<style scoped>\n",
       "    .dataframe tbody tr th:only-of-type {\n",
       "        vertical-align: middle;\n",
       "    }\n",
       "\n",
       "    .dataframe tbody tr th {\n",
       "        vertical-align: top;\n",
       "    }\n",
       "\n",
       "    .dataframe thead th {\n",
       "        text-align: right;\n",
       "    }\n",
       "</style>\n",
       "<table border=\"1\" class=\"dataframe\">\n",
       "  <thead>\n",
       "    <tr style=\"text-align: right;\">\n",
       "      <th></th>\n",
       "      <th>Unnamed: 0</th>\n",
       "      <th>SK_ID_PREV</th>\n",
       "      <th>LN_ID</th>\n",
       "      <th>INST_NUMBER</th>\n",
       "      <th>INST_DAYS</th>\n",
       "      <th>PAY_DAYS</th>\n",
       "      <th>AMT_INST</th>\n",
       "      <th>AMT_PAY</th>\n",
       "    </tr>\n",
       "  </thead>\n",
       "  <tbody>\n",
       "    <tr>\n",
       "      <th>1080303</th>\n",
       "      <td>6339518</td>\n",
       "      <td>1000020</td>\n",
       "      <td>299072</td>\n",
       "      <td>1</td>\n",
       "      <td>-1986.0</td>\n",
       "      <td>-2000.0</td>\n",
       "      <td>18393.165</td>\n",
       "      <td>18393.165</td>\n",
       "    </tr>\n",
       "    <tr>\n",
       "      <th>1295003</th>\n",
       "      <td>7609974</td>\n",
       "      <td>1000020</td>\n",
       "      <td>299072</td>\n",
       "      <td>2</td>\n",
       "      <td>-1956.0</td>\n",
       "      <td>-1973.0</td>\n",
       "      <td>18393.165</td>\n",
       "      <td>18393.165</td>\n",
       "    </tr>\n",
       "    <tr>\n",
       "      <th>951302</th>\n",
       "      <td>5575255</td>\n",
       "      <td>1000020</td>\n",
       "      <td>299072</td>\n",
       "      <td>3</td>\n",
       "      <td>-1926.0</td>\n",
       "      <td>-1941.0</td>\n",
       "      <td>18393.165</td>\n",
       "      <td>18393.165</td>\n",
       "    </tr>\n",
       "    <tr>\n",
       "      <th>1039007</th>\n",
       "      <td>6094629</td>\n",
       "      <td>1000020</td>\n",
       "      <td>299072</td>\n",
       "      <td>4</td>\n",
       "      <td>-1896.0</td>\n",
       "      <td>-1912.0</td>\n",
       "      <td>18393.165</td>\n",
       "      <td>18393.165</td>\n",
       "    </tr>\n",
       "    <tr>\n",
       "      <th>1059023</th>\n",
       "      <td>6213282</td>\n",
       "      <td>1000020</td>\n",
       "      <td>299072</td>\n",
       "      <td>5</td>\n",
       "      <td>-1866.0</td>\n",
       "      <td>-1882.0</td>\n",
       "      <td>18393.165</td>\n",
       "      <td>18393.165</td>\n",
       "    </tr>\n",
       "    <tr>\n",
       "      <th>890116</th>\n",
       "      <td>5213452</td>\n",
       "      <td>1000020</td>\n",
       "      <td>299072</td>\n",
       "      <td>6</td>\n",
       "      <td>-1836.0</td>\n",
       "      <td>-1849.0</td>\n",
       "      <td>18393.165</td>\n",
       "      <td>18393.165</td>\n",
       "    </tr>\n",
       "    <tr>\n",
       "      <th>1168017</th>\n",
       "      <td>6858015</td>\n",
       "      <td>1000020</td>\n",
       "      <td>299072</td>\n",
       "      <td>7</td>\n",
       "      <td>-1806.0</td>\n",
       "      <td>-1818.0</td>\n",
       "      <td>18393.165</td>\n",
       "      <td>18393.165</td>\n",
       "    </tr>\n",
       "    <tr>\n",
       "      <th>1168323</th>\n",
       "      <td>6859937</td>\n",
       "      <td>1000020</td>\n",
       "      <td>299072</td>\n",
       "      <td>8</td>\n",
       "      <td>-1776.0</td>\n",
       "      <td>-1790.0</td>\n",
       "      <td>18393.165</td>\n",
       "      <td>18393.165</td>\n",
       "    </tr>\n",
       "    <tr>\n",
       "      <th>1191857</th>\n",
       "      <td>6999870</td>\n",
       "      <td>1000020</td>\n",
       "      <td>299072</td>\n",
       "      <td>9</td>\n",
       "      <td>-1746.0</td>\n",
       "      <td>-1759.0</td>\n",
       "      <td>18393.165</td>\n",
       "      <td>18393.165</td>\n",
       "    </tr>\n",
       "    <tr>\n",
       "      <th>1177594</th>\n",
       "      <td>6914447</td>\n",
       "      <td>1000020</td>\n",
       "      <td>299072</td>\n",
       "      <td>10</td>\n",
       "      <td>-1716.0</td>\n",
       "      <td>-1724.0</td>\n",
       "      <td>18393.165</td>\n",
       "      <td>18393.165</td>\n",
       "    </tr>\n",
       "  </tbody>\n",
       "</table>\n",
       "</div>"
      ],
      "text/plain": [
       "         Unnamed: 0  SK_ID_PREV   LN_ID  INST_NUMBER  INST_DAYS  PAY_DAYS  \\\n",
       "1080303     6339518     1000020  299072            1    -1986.0   -2000.0   \n",
       "1295003     7609974     1000020  299072            2    -1956.0   -1973.0   \n",
       "951302      5575255     1000020  299072            3    -1926.0   -1941.0   \n",
       "1039007     6094629     1000020  299072            4    -1896.0   -1912.0   \n",
       "1059023     6213282     1000020  299072            5    -1866.0   -1882.0   \n",
       "890116      5213452     1000020  299072            6    -1836.0   -1849.0   \n",
       "1168017     6858015     1000020  299072            7    -1806.0   -1818.0   \n",
       "1168323     6859937     1000020  299072            8    -1776.0   -1790.0   \n",
       "1191857     6999870     1000020  299072            9    -1746.0   -1759.0   \n",
       "1177594     6914447     1000020  299072           10    -1716.0   -1724.0   \n",
       "\n",
       "          AMT_INST    AMT_PAY  \n",
       "1080303  18393.165  18393.165  \n",
       "1295003  18393.165  18393.165  \n",
       "951302   18393.165  18393.165  \n",
       "1039007  18393.165  18393.165  \n",
       "1059023  18393.165  18393.165  \n",
       "890116   18393.165  18393.165  \n",
       "1168017  18393.165  18393.165  \n",
       "1168323  18393.165  18393.165  \n",
       "1191857  18393.165  18393.165  \n",
       "1177594  18393.165  18393.165  "
      ]
     },
     "execution_count": 21,
     "metadata": {},
     "output_type": "execute_result"
    }
   ],
   "source": [
    "install_payments.head(10)"
   ]
  },
  {
   "cell_type": "code",
   "execution_count": 13,
   "metadata": {},
   "outputs": [
    {
     "data": {
      "text/plain": [
       "(2872306, 8)"
      ]
     },
     "execution_count": 13,
     "metadata": {},
     "output_type": "execute_result"
    }
   ],
   "source": [
    "install_payments.shape"
   ]
  },
  {
   "cell_type": "code",
   "execution_count": 14,
   "metadata": {},
   "outputs": [
    {
     "data": {
      "text/plain": [
       "211734"
      ]
     },
     "execution_count": 14,
     "metadata": {},
     "output_type": "execute_result"
    }
   ],
   "source": [
    "install_payments.SK_ID_PREV.nunique()"
   ]
  },
  {
   "cell_type": "code",
   "execution_count": 15,
   "metadata": {},
   "outputs": [
    {
     "data": {
      "text/plain": [
       "72301"
      ]
     },
     "execution_count": 15,
     "metadata": {},
     "output_type": "execute_result"
    }
   ],
   "source": [
    "install_payments.LN_ID.nunique()"
   ]
  },
  {
   "cell_type": "code",
   "execution_count": 19,
   "metadata": {
    "collapsed": true
   },
   "outputs": [],
   "source": [
    "install_payments.sort_values(by=[\"SK_ID_PREV\",\"INST_NUMBER\"],inplace=True)"
   ]
  },
  {
   "cell_type": "code",
   "execution_count": 67,
   "metadata": {},
   "outputs": [
    {
     "data": {
      "text/html": [
       "<div>\n",
       "<style scoped>\n",
       "    .dataframe tbody tr th:only-of-type {\n",
       "        vertical-align: middle;\n",
       "    }\n",
       "\n",
       "    .dataframe tbody tr th {\n",
       "        vertical-align: top;\n",
       "    }\n",
       "\n",
       "    .dataframe thead th {\n",
       "        text-align: right;\n",
       "    }\n",
       "</style>\n",
       "<table border=\"1\" class=\"dataframe\">\n",
       "  <thead>\n",
       "    <tr style=\"text-align: right;\">\n",
       "      <th></th>\n",
       "      <th>Unnamed: 0</th>\n",
       "      <th>SK_ID_PREV</th>\n",
       "      <th>LN_ID</th>\n",
       "      <th>INST_NUMBER</th>\n",
       "      <th>INST_DAYS</th>\n",
       "      <th>PAY_DAYS</th>\n",
       "      <th>AMT_INST</th>\n",
       "      <th>AMT_PAY</th>\n",
       "      <th>diff</th>\n",
       "    </tr>\n",
       "  </thead>\n",
       "  <tbody>\n",
       "    <tr>\n",
       "      <th>1668031</th>\n",
       "      <td>9804814</td>\n",
       "      <td>2843498</td>\n",
       "      <td>393881</td>\n",
       "      <td>2</td>\n",
       "      <td>-1412.0</td>\n",
       "      <td>-1424.0</td>\n",
       "      <td>16191.990</td>\n",
       "      <td>16191.990</td>\n",
       "      <td>0.0</td>\n",
       "    </tr>\n",
       "    <tr>\n",
       "      <th>1368805</th>\n",
       "      <td>8043906</td>\n",
       "      <td>2843498</td>\n",
       "      <td>393881</td>\n",
       "      <td>3</td>\n",
       "      <td>-1382.0</td>\n",
       "      <td>-1395.0</td>\n",
       "      <td>16191.990</td>\n",
       "      <td>16191.990</td>\n",
       "      <td>0.0</td>\n",
       "    </tr>\n",
       "    <tr>\n",
       "      <th>1907167</th>\n",
       "      <td>11215246</td>\n",
       "      <td>2843498</td>\n",
       "      <td>393881</td>\n",
       "      <td>4</td>\n",
       "      <td>-1352.0</td>\n",
       "      <td>-1367.0</td>\n",
       "      <td>16191.990</td>\n",
       "      <td>16191.990</td>\n",
       "      <td>0.0</td>\n",
       "    </tr>\n",
       "    <tr>\n",
       "      <th>1463819</th>\n",
       "      <td>8603564</td>\n",
       "      <td>2843498</td>\n",
       "      <td>393881</td>\n",
       "      <td>5</td>\n",
       "      <td>-1322.0</td>\n",
       "      <td>-1336.0</td>\n",
       "      <td>16191.990</td>\n",
       "      <td>16191.990</td>\n",
       "      <td>0.0</td>\n",
       "    </tr>\n",
       "    <tr>\n",
       "      <th>1720296</th>\n",
       "      <td>10111944</td>\n",
       "      <td>2843498</td>\n",
       "      <td>393881</td>\n",
       "      <td>6</td>\n",
       "      <td>-1296.0</td>\n",
       "      <td>-1296.0</td>\n",
       "      <td>333361.485</td>\n",
       "      <td>333361.485</td>\n",
       "      <td>0.0</td>\n",
       "    </tr>\n",
       "  </tbody>\n",
       "</table>\n",
       "</div>"
      ],
      "text/plain": [
       "         Unnamed: 0  SK_ID_PREV   LN_ID  INST_NUMBER  INST_DAYS  PAY_DAYS  \\\n",
       "1668031     9804814     2843498  393881            2    -1412.0   -1424.0   \n",
       "1368805     8043906     2843498  393881            3    -1382.0   -1395.0   \n",
       "1907167    11215246     2843498  393881            4    -1352.0   -1367.0   \n",
       "1463819     8603564     2843498  393881            5    -1322.0   -1336.0   \n",
       "1720296    10111944     2843498  393881            6    -1296.0   -1296.0   \n",
       "\n",
       "           AMT_INST     AMT_PAY  diff  \n",
       "1668031   16191.990   16191.990   0.0  \n",
       "1368805   16191.990   16191.990   0.0  \n",
       "1907167   16191.990   16191.990   0.0  \n",
       "1463819   16191.990   16191.990   0.0  \n",
       "1720296  333361.485  333361.485   0.0  "
      ]
     },
     "execution_count": 67,
     "metadata": {},
     "output_type": "execute_result"
    }
   ],
   "source": [
    "install_payments.tail()"
   ]
  },
  {
   "cell_type": "code",
   "execution_count": 27,
   "metadata": {
    "collapsed": true
   },
   "outputs": [],
   "source": [
    "install_payments[\"diff\"] = install_payments[\"AMT_INST\"]-install_payments[\"AMT_PAY\"]"
   ]
  },
  {
   "cell_type": "code",
   "execution_count": 35,
   "metadata": {},
   "outputs": [
    {
     "data": {
      "text/plain": [
       "-454520689.785"
      ]
     },
     "execution_count": 35,
     "metadata": {},
     "output_type": "execute_result"
    }
   ],
   "source": [
    "install_payments[\"diff\"].sum()"
   ]
  },
  {
   "cell_type": "code",
   "execution_count": null,
   "metadata": {
    "collapsed": true
   },
   "outputs": [],
   "source": [
    "#so a particular custoomer could have dues from his previous loan application.\n",
    "#our job here should be to take out the previous loan application details at the LN_ID level and add it to the train and test data\n",
    "#We can create two variables 1) no of previous application and 2)total balance due in all the previos application.\n"
   ]
  },
  {
   "cell_type": "code",
   "execution_count": 62,
   "metadata": {
    "collapsed": true
   },
   "outputs": [],
   "source": [
    "new_df=install_payments.pivot_table(values=['SK_ID_PREV',\"diff\"],index='LN_ID',aggfunc={\"SK_ID_PREV\":pd.Series.nunique,\"diff\":np.sum})\n",
    "\n",
    "\n",
    "\n"
   ]
  },
  {
   "cell_type": "code",
   "execution_count": 63,
   "metadata": {
    "collapsed": true
   },
   "outputs": [],
   "source": [
    "new_df.reset_index(level=0, inplace=True)"
   ]
  },
  {
   "cell_type": "code",
   "execution_count": 64,
   "metadata": {
    "collapsed": true
   },
   "outputs": [],
   "source": [
    "new_df = new_df.rename(columns={\"SK_ID_PREV\": \"SK_ID_PREV_count\"})"
   ]
  },
  {
   "cell_type": "code",
   "execution_count": 68,
   "metadata": {},
   "outputs": [
    {
     "data": {
      "text/html": [
       "<div>\n",
       "<style scoped>\n",
       "    .dataframe tbody tr th:only-of-type {\n",
       "        vertical-align: middle;\n",
       "    }\n",
       "\n",
       "    .dataframe tbody tr th {\n",
       "        vertical-align: top;\n",
       "    }\n",
       "\n",
       "    .dataframe thead th {\n",
       "        text-align: right;\n",
       "    }\n",
       "</style>\n",
       "<table border=\"1\" class=\"dataframe\">\n",
       "  <thead>\n",
       "    <tr style=\"text-align: right;\">\n",
       "      <th></th>\n",
       "      <th>LN_ID</th>\n",
       "      <th>SK_ID_PREV_count</th>\n",
       "      <th>diff</th>\n",
       "    </tr>\n",
       "  </thead>\n",
       "  <tbody>\n",
       "    <tr>\n",
       "      <th>0</th>\n",
       "      <td>100009</td>\n",
       "      <td>8</td>\n",
       "      <td>0.000</td>\n",
       "    </tr>\n",
       "    <tr>\n",
       "      <th>1</th>\n",
       "      <td>100039</td>\n",
       "      <td>3</td>\n",
       "      <td>-590187.285</td>\n",
       "    </tr>\n",
       "    <tr>\n",
       "      <th>2</th>\n",
       "      <td>100044</td>\n",
       "      <td>4</td>\n",
       "      <td>57807.630</td>\n",
       "    </tr>\n",
       "    <tr>\n",
       "      <th>3</th>\n",
       "      <td>100045</td>\n",
       "      <td>4</td>\n",
       "      <td>27034.830</td>\n",
       "    </tr>\n",
       "    <tr>\n",
       "      <th>4</th>\n",
       "      <td>100046</td>\n",
       "      <td>1</td>\n",
       "      <td>0.000</td>\n",
       "    </tr>\n",
       "  </tbody>\n",
       "</table>\n",
       "</div>"
      ],
      "text/plain": [
       "    LN_ID  SK_ID_PREV_count        diff\n",
       "0  100009                 8       0.000\n",
       "1  100039                 3 -590187.285\n",
       "2  100044                 4   57807.630\n",
       "3  100045                 4   27034.830\n",
       "4  100046                 1       0.000"
      ]
     },
     "execution_count": 68,
     "metadata": {},
     "output_type": "execute_result"
    }
   ],
   "source": [
    "new_df.head()"
   ]
  },
  {
   "cell_type": "code",
   "execution_count": 75,
   "metadata": {},
   "outputs": [
    {
     "data": {
      "text/plain": [
       "(72301, 3)"
      ]
     },
     "execution_count": 75,
     "metadata": {},
     "output_type": "execute_result"
    }
   ],
   "source": [
    "new_df.shape"
   ]
  },
  {
   "cell_type": "code",
   "execution_count": null,
   "metadata": {
    "collapsed": true
   },
   "outputs": [],
   "source": [
    "#using the prev_app data to extract useful variables"
   ]
  },
  {
   "cell_type": "code",
   "execution_count": 82,
   "metadata": {
    "collapsed": true
   },
   "outputs": [],
   "source": [
    "prev_app = pd.read_csv(\"prev_app.csv\")"
   ]
  },
  {
   "cell_type": "code",
   "execution_count": 70,
   "metadata": {},
   "outputs": [
    {
     "data": {
      "text/html": [
       "<div>\n",
       "<style scoped>\n",
       "    .dataframe tbody tr th:only-of-type {\n",
       "        vertical-align: middle;\n",
       "    }\n",
       "\n",
       "    .dataframe tbody tr th {\n",
       "        vertical-align: top;\n",
       "    }\n",
       "\n",
       "    .dataframe thead th {\n",
       "        text-align: right;\n",
       "    }\n",
       "</style>\n",
       "<table border=\"1\" class=\"dataframe\">\n",
       "  <thead>\n",
       "    <tr style=\"text-align: right;\">\n",
       "      <th></th>\n",
       "      <th>Unnamed: 0</th>\n",
       "      <th>SK_ID_PREV</th>\n",
       "      <th>LN_ID</th>\n",
       "      <th>CONTRACT_TYPE</th>\n",
       "      <th>ANNUITY</th>\n",
       "      <th>APPLICATION</th>\n",
       "      <th>APPROVED_CREDIT</th>\n",
       "      <th>AMT_DOWN_PAYMENT</th>\n",
       "      <th>PRICE</th>\n",
       "      <th>WEEKDAYS_APPLY</th>\n",
       "      <th>HOUR_APPLY</th>\n",
       "      <th>CONTRACT_STATUS</th>\n",
       "      <th>DAYS_DECISION</th>\n",
       "      <th>TERM_PAYMENT</th>\n",
       "      <th>YIELD_GROUP</th>\n",
       "      <th>FIRST_DRAW</th>\n",
       "      <th>FIRST_DUE</th>\n",
       "      <th>TERMINATION</th>\n",
       "      <th>NFLAG_INSURED_ON_APPROVAL</th>\n",
       "    </tr>\n",
       "  </thead>\n",
       "  <tbody>\n",
       "    <tr>\n",
       "      <th>0</th>\n",
       "      <td>0</td>\n",
       "      <td>2030495</td>\n",
       "      <td>271877</td>\n",
       "      <td>Consumer loans</td>\n",
       "      <td>1730.430</td>\n",
       "      <td>17145.0</td>\n",
       "      <td>17145.0</td>\n",
       "      <td>0.0</td>\n",
       "      <td>17145.0</td>\n",
       "      <td>SATURDAY</td>\n",
       "      <td>15</td>\n",
       "      <td>Approved</td>\n",
       "      <td>-73</td>\n",
       "      <td>12.0</td>\n",
       "      <td>middle</td>\n",
       "      <td>365243.0</td>\n",
       "      <td>-42.0</td>\n",
       "      <td>-37.0</td>\n",
       "      <td>0.0</td>\n",
       "    </tr>\n",
       "    <tr>\n",
       "      <th>1</th>\n",
       "      <td>3</td>\n",
       "      <td>2819243</td>\n",
       "      <td>176158</td>\n",
       "      <td>Cash loans</td>\n",
       "      <td>47041.335</td>\n",
       "      <td>450000.0</td>\n",
       "      <td>470790.0</td>\n",
       "      <td>NaN</td>\n",
       "      <td>450000.0</td>\n",
       "      <td>MONDAY</td>\n",
       "      <td>7</td>\n",
       "      <td>Approved</td>\n",
       "      <td>-512</td>\n",
       "      <td>12.0</td>\n",
       "      <td>middle</td>\n",
       "      <td>365243.0</td>\n",
       "      <td>-482.0</td>\n",
       "      <td>-177.0</td>\n",
       "      <td>1.0</td>\n",
       "    </tr>\n",
       "    <tr>\n",
       "      <th>2</th>\n",
       "      <td>5</td>\n",
       "      <td>1383531</td>\n",
       "      <td>199383</td>\n",
       "      <td>Cash loans</td>\n",
       "      <td>23703.930</td>\n",
       "      <td>315000.0</td>\n",
       "      <td>340573.5</td>\n",
       "      <td>NaN</td>\n",
       "      <td>315000.0</td>\n",
       "      <td>SATURDAY</td>\n",
       "      <td>8</td>\n",
       "      <td>Approved</td>\n",
       "      <td>-684</td>\n",
       "      <td>18.0</td>\n",
       "      <td>low_normal</td>\n",
       "      <td>365243.0</td>\n",
       "      <td>-654.0</td>\n",
       "      <td>-137.0</td>\n",
       "      <td>1.0</td>\n",
       "    </tr>\n",
       "    <tr>\n",
       "      <th>3</th>\n",
       "      <td>6</td>\n",
       "      <td>2315218</td>\n",
       "      <td>175704</td>\n",
       "      <td>Cash loans</td>\n",
       "      <td>NaN</td>\n",
       "      <td>0.0</td>\n",
       "      <td>0.0</td>\n",
       "      <td>NaN</td>\n",
       "      <td>NaN</td>\n",
       "      <td>TUESDAY</td>\n",
       "      <td>11</td>\n",
       "      <td>Canceled</td>\n",
       "      <td>-14</td>\n",
       "      <td>NaN</td>\n",
       "      <td>NA1</td>\n",
       "      <td>NaN</td>\n",
       "      <td>NaN</td>\n",
       "      <td>NaN</td>\n",
       "      <td>NaN</td>\n",
       "    </tr>\n",
       "    <tr>\n",
       "      <th>4</th>\n",
       "      <td>10</td>\n",
       "      <td>1715995</td>\n",
       "      <td>447712</td>\n",
       "      <td>Cash loans</td>\n",
       "      <td>11368.620</td>\n",
       "      <td>270000.0</td>\n",
       "      <td>335754.0</td>\n",
       "      <td>NaN</td>\n",
       "      <td>270000.0</td>\n",
       "      <td>FRIDAY</td>\n",
       "      <td>7</td>\n",
       "      <td>Approved</td>\n",
       "      <td>-735</td>\n",
       "      <td>54.0</td>\n",
       "      <td>low_normal</td>\n",
       "      <td>365243.0</td>\n",
       "      <td>-705.0</td>\n",
       "      <td>-334.0</td>\n",
       "      <td>1.0</td>\n",
       "    </tr>\n",
       "  </tbody>\n",
       "</table>\n",
       "</div>"
      ],
      "text/plain": [
       "   Unnamed: 0  SK_ID_PREV   LN_ID   CONTRACT_TYPE    ANNUITY  APPLICATION  \\\n",
       "0           0     2030495  271877  Consumer loans   1730.430      17145.0   \n",
       "1           3     2819243  176158      Cash loans  47041.335     450000.0   \n",
       "2           5     1383531  199383      Cash loans  23703.930     315000.0   \n",
       "3           6     2315218  175704      Cash loans        NaN          0.0   \n",
       "4          10     1715995  447712      Cash loans  11368.620     270000.0   \n",
       "\n",
       "   APPROVED_CREDIT  AMT_DOWN_PAYMENT     PRICE WEEKDAYS_APPLY  HOUR_APPLY  \\\n",
       "0          17145.0               0.0   17145.0       SATURDAY          15   \n",
       "1         470790.0               NaN  450000.0         MONDAY           7   \n",
       "2         340573.5               NaN  315000.0       SATURDAY           8   \n",
       "3              0.0               NaN       NaN        TUESDAY          11   \n",
       "4         335754.0               NaN  270000.0         FRIDAY           7   \n",
       "\n",
       "  CONTRACT_STATUS  DAYS_DECISION  TERM_PAYMENT YIELD_GROUP  FIRST_DRAW  \\\n",
       "0        Approved            -73          12.0      middle    365243.0   \n",
       "1        Approved           -512          12.0      middle    365243.0   \n",
       "2        Approved           -684          18.0  low_normal    365243.0   \n",
       "3        Canceled            -14           NaN         NA1         NaN   \n",
       "4        Approved           -735          54.0  low_normal    365243.0   \n",
       "\n",
       "   FIRST_DUE  TERMINATION  NFLAG_INSURED_ON_APPROVAL  \n",
       "0      -42.0        -37.0                        0.0  \n",
       "1     -482.0       -177.0                        1.0  \n",
       "2     -654.0       -137.0                        1.0  \n",
       "3        NaN          NaN                        NaN  \n",
       "4     -705.0       -334.0                        1.0  "
      ]
     },
     "execution_count": 70,
     "metadata": {},
     "output_type": "execute_result"
    }
   ],
   "source": [
    "prev_app.head()"
   ]
  },
  {
   "cell_type": "code",
   "execution_count": 83,
   "metadata": {},
   "outputs": [],
   "source": [
    "prev_app.TERM_PAYMENT.fillna(0,inplace=True)"
   ]
  },
  {
   "cell_type": "code",
   "execution_count": 90,
   "metadata": {
    "collapsed": true
   },
   "outputs": [],
   "source": [
    "prev_app2=prev_app.pivot_table(values=['CONTRACT_TYPE',\"APPLICATION\",\"APPROVED_CREDIT\",\"CONTRACT_STATUS\",\"TERM_PAYMENT\"],\n",
    "                                    index='LN_ID',aggfunc={\"CONTRACT_TYPE\":\"max\",\"APPLICATION\":np.mean,\n",
    "                                                           \"APPROVED_CREDIT\":np.mean,\"CONTRACT_STATUS\":\"max\",\n",
    "                                                           \"TERM_PAYMENT\":np.mean\n",
    "                                                    })\n"
   ]
  },
  {
   "cell_type": "code",
   "execution_count": 107,
   "metadata": {},
   "outputs": [],
   "source": [
    "prev_app2.rename(columns={\"CONTRACT_TYPE\": \"CONTRACT_TYPE_prev\",\"APPROVED_CREDIT\":\"APPROVED_CREDIT_prev\"},inplace=True)"
   ]
  },
  {
   "cell_type": "code",
   "execution_count": 108,
   "metadata": {},
   "outputs": [
    {
     "data": {
      "text/html": [
       "<div>\n",
       "<style scoped>\n",
       "    .dataframe tbody tr th:only-of-type {\n",
       "        vertical-align: middle;\n",
       "    }\n",
       "\n",
       "    .dataframe tbody tr th {\n",
       "        vertical-align: top;\n",
       "    }\n",
       "\n",
       "    .dataframe thead th {\n",
       "        text-align: right;\n",
       "    }\n",
       "</style>\n",
       "<table border=\"1\" class=\"dataframe\">\n",
       "  <thead>\n",
       "    <tr style=\"text-align: right;\">\n",
       "      <th></th>\n",
       "      <th>LN_ID</th>\n",
       "      <th>APPLICATION</th>\n",
       "      <th>APPROVED_CREDIT_prev</th>\n",
       "      <th>CONTRACT_STATUS</th>\n",
       "      <th>CONTRACT_TYPE_prev</th>\n",
       "      <th>TERM_PAYMENT</th>\n",
       "    </tr>\n",
       "  </thead>\n",
       "  <tbody>\n",
       "    <tr>\n",
       "      <th>0</th>\n",
       "      <td>100009</td>\n",
       "      <td>76741.714286</td>\n",
       "      <td>70137.642857</td>\n",
       "      <td>Approved</td>\n",
       "      <td>Consumer loans</td>\n",
       "      <td>8.0</td>\n",
       "    </tr>\n",
       "    <tr>\n",
       "      <th>1</th>\n",
       "      <td>100039</td>\n",
       "      <td>348917.523750</td>\n",
       "      <td>383785.875000</td>\n",
       "      <td>Canceled</td>\n",
       "      <td>Consumer loans</td>\n",
       "      <td>13.5</td>\n",
       "    </tr>\n",
       "    <tr>\n",
       "      <th>2</th>\n",
       "      <td>100044</td>\n",
       "      <td>288337.500000</td>\n",
       "      <td>299743.875000</td>\n",
       "      <td>Approved</td>\n",
       "      <td>Consumer loans</td>\n",
       "      <td>24.0</td>\n",
       "    </tr>\n",
       "    <tr>\n",
       "      <th>3</th>\n",
       "      <td>100045</td>\n",
       "      <td>339485.625000</td>\n",
       "      <td>368978.625000</td>\n",
       "      <td>Approved</td>\n",
       "      <td>Consumer loans</td>\n",
       "      <td>18.0</td>\n",
       "    </tr>\n",
       "    <tr>\n",
       "      <th>4</th>\n",
       "      <td>100046</td>\n",
       "      <td>393750.000000</td>\n",
       "      <td>481817.250000</td>\n",
       "      <td>Refused</td>\n",
       "      <td>Cash loans</td>\n",
       "      <td>21.0</td>\n",
       "    </tr>\n",
       "  </tbody>\n",
       "</table>\n",
       "</div>"
      ],
      "text/plain": [
       "    LN_ID    APPLICATION  APPROVED_CREDIT_prev CONTRACT_STATUS  \\\n",
       "0  100009   76741.714286          70137.642857        Approved   \n",
       "1  100039  348917.523750         383785.875000        Canceled   \n",
       "2  100044  288337.500000         299743.875000        Approved   \n",
       "3  100045  339485.625000         368978.625000        Approved   \n",
       "4  100046  393750.000000         481817.250000         Refused   \n",
       "\n",
       "  CONTRACT_TYPE_prev  TERM_PAYMENT  \n",
       "0     Consumer loans           8.0  \n",
       "1     Consumer loans          13.5  \n",
       "2     Consumer loans          24.0  \n",
       "3     Consumer loans          18.0  \n",
       "4         Cash loans          21.0  "
      ]
     },
     "execution_count": 108,
     "metadata": {},
     "output_type": "execute_result"
    }
   ],
   "source": [
    "prev_app2.head()"
   ]
  },
  {
   "cell_type": "code",
   "execution_count": 92,
   "metadata": {
    "collapsed": true
   },
   "outputs": [],
   "source": [
    "prev_app2.reset_index(level=0, inplace=True)"
   ]
  },
  {
   "cell_type": "code",
   "execution_count": null,
   "metadata": {
    "collapsed": true
   },
   "outputs": [],
   "source": []
  },
  {
   "cell_type": "code",
   "execution_count": 109,
   "metadata": {
    "collapsed": true
   },
   "outputs": [],
   "source": [
    "new_df2 = pd.merge(prev_app2,new_df,on=\"LN_ID\")"
   ]
  },
  {
   "cell_type": "code",
   "execution_count": 110,
   "metadata": {},
   "outputs": [
    {
     "data": {
      "text/html": [
       "<div>\n",
       "<style scoped>\n",
       "    .dataframe tbody tr th:only-of-type {\n",
       "        vertical-align: middle;\n",
       "    }\n",
       "\n",
       "    .dataframe tbody tr th {\n",
       "        vertical-align: top;\n",
       "    }\n",
       "\n",
       "    .dataframe thead th {\n",
       "        text-align: right;\n",
       "    }\n",
       "</style>\n",
       "<table border=\"1\" class=\"dataframe\">\n",
       "  <thead>\n",
       "    <tr style=\"text-align: right;\">\n",
       "      <th></th>\n",
       "      <th>LN_ID</th>\n",
       "      <th>APPLICATION</th>\n",
       "      <th>APPROVED_CREDIT_prev</th>\n",
       "      <th>CONTRACT_STATUS</th>\n",
       "      <th>CONTRACT_TYPE_prev</th>\n",
       "      <th>TERM_PAYMENT</th>\n",
       "      <th>SK_ID_PREV_count</th>\n",
       "      <th>diff</th>\n",
       "    </tr>\n",
       "  </thead>\n",
       "  <tbody>\n",
       "    <tr>\n",
       "      <th>0</th>\n",
       "      <td>100009</td>\n",
       "      <td>76741.714286</td>\n",
       "      <td>70137.642857</td>\n",
       "      <td>Approved</td>\n",
       "      <td>Consumer loans</td>\n",
       "      <td>8.0</td>\n",
       "      <td>8</td>\n",
       "      <td>0.000</td>\n",
       "    </tr>\n",
       "    <tr>\n",
       "      <th>1</th>\n",
       "      <td>100039</td>\n",
       "      <td>348917.523750</td>\n",
       "      <td>383785.875000</td>\n",
       "      <td>Canceled</td>\n",
       "      <td>Consumer loans</td>\n",
       "      <td>13.5</td>\n",
       "      <td>3</td>\n",
       "      <td>-590187.285</td>\n",
       "    </tr>\n",
       "    <tr>\n",
       "      <th>2</th>\n",
       "      <td>100044</td>\n",
       "      <td>288337.500000</td>\n",
       "      <td>299743.875000</td>\n",
       "      <td>Approved</td>\n",
       "      <td>Consumer loans</td>\n",
       "      <td>24.0</td>\n",
       "      <td>4</td>\n",
       "      <td>57807.630</td>\n",
       "    </tr>\n",
       "    <tr>\n",
       "      <th>3</th>\n",
       "      <td>100045</td>\n",
       "      <td>339485.625000</td>\n",
       "      <td>368978.625000</td>\n",
       "      <td>Approved</td>\n",
       "      <td>Consumer loans</td>\n",
       "      <td>18.0</td>\n",
       "      <td>4</td>\n",
       "      <td>27034.830</td>\n",
       "    </tr>\n",
       "    <tr>\n",
       "      <th>4</th>\n",
       "      <td>100046</td>\n",
       "      <td>393750.000000</td>\n",
       "      <td>481817.250000</td>\n",
       "      <td>Refused</td>\n",
       "      <td>Cash loans</td>\n",
       "      <td>21.0</td>\n",
       "      <td>1</td>\n",
       "      <td>0.000</td>\n",
       "    </tr>\n",
       "  </tbody>\n",
       "</table>\n",
       "</div>"
      ],
      "text/plain": [
       "    LN_ID    APPLICATION  APPROVED_CREDIT_prev CONTRACT_STATUS  \\\n",
       "0  100009   76741.714286          70137.642857        Approved   \n",
       "1  100039  348917.523750         383785.875000        Canceled   \n",
       "2  100044  288337.500000         299743.875000        Approved   \n",
       "3  100045  339485.625000         368978.625000        Approved   \n",
       "4  100046  393750.000000         481817.250000         Refused   \n",
       "\n",
       "  CONTRACT_TYPE_prev  TERM_PAYMENT  SK_ID_PREV_count        diff  \n",
       "0     Consumer loans           8.0                 8       0.000  \n",
       "1     Consumer loans          13.5                 3 -590187.285  \n",
       "2     Consumer loans          24.0                 4   57807.630  \n",
       "3     Consumer loans          18.0                 4   27034.830  \n",
       "4         Cash loans          21.0                 1       0.000  "
      ]
     },
     "execution_count": 110,
     "metadata": {},
     "output_type": "execute_result"
    }
   ],
   "source": [
    "new_df2.head()"
   ]
  },
  {
   "cell_type": "code",
   "execution_count": 111,
   "metadata": {},
   "outputs": [],
   "source": [
    "new_df2.to_csv(\"Extravals.csv\",index=False)"
   ]
  },
  {
   "cell_type": "markdown",
   "metadata": {},
   "source": [
    "# Loading training data and preprocessing before the modelling"
   ]
  },
  {
   "cell_type": "code",
   "execution_count": 256,
   "metadata": {},
   "outputs": [],
   "source": [
    "train_app =pd.read_csv(\"app_train.csv\")"
   ]
  },
  {
   "cell_type": "code",
   "execution_count": 257,
   "metadata": {
    "collapsed": true
   },
   "outputs": [],
   "source": [
    "Extra_vals = pd.read_csv(\"Extravals.csv\")"
   ]
  },
  {
   "cell_type": "code",
   "execution_count": 258,
   "metadata": {},
   "outputs": [],
   "source": [
    "train_app2 = pd.merge(train_app,Extra_vals,on=\"LN_ID\")"
   ]
  },
  {
   "cell_type": "code",
   "execution_count": 259,
   "metadata": {},
   "outputs": [
    {
     "data": {
      "text/html": [
       "<div>\n",
       "<style scoped>\n",
       "    .dataframe tbody tr th:only-of-type {\n",
       "        vertical-align: middle;\n",
       "    }\n",
       "\n",
       "    .dataframe tbody tr th {\n",
       "        vertical-align: top;\n",
       "    }\n",
       "\n",
       "    .dataframe thead th {\n",
       "        text-align: right;\n",
       "    }\n",
       "</style>\n",
       "<table border=\"1\" class=\"dataframe\">\n",
       "  <thead>\n",
       "    <tr style=\"text-align: right;\">\n",
       "      <th></th>\n",
       "      <th>Unnamed: 0</th>\n",
       "      <th>LN_ID</th>\n",
       "      <th>TARGET</th>\n",
       "      <th>CONTRACT_TYPE</th>\n",
       "      <th>GENDER</th>\n",
       "      <th>NUM_CHILDREN</th>\n",
       "      <th>INCOME</th>\n",
       "      <th>APPROVED_CREDIT</th>\n",
       "      <th>ANNUITY</th>\n",
       "      <th>PRICE</th>\n",
       "      <th>...</th>\n",
       "      <th>EXT_SCORE_1</th>\n",
       "      <th>EXT_SCORE_2</th>\n",
       "      <th>EXT_SCORE_3</th>\n",
       "      <th>APPLICATION</th>\n",
       "      <th>APPROVED_CREDIT_prev</th>\n",
       "      <th>CONTRACT_STATUS</th>\n",
       "      <th>CONTRACT_TYPE_prev</th>\n",
       "      <th>TERM_PAYMENT</th>\n",
       "      <th>SK_ID_PREV_count</th>\n",
       "      <th>diff</th>\n",
       "    </tr>\n",
       "  </thead>\n",
       "  <tbody>\n",
       "    <tr>\n",
       "      <th>0</th>\n",
       "      <td>201468</td>\n",
       "      <td>333538</td>\n",
       "      <td>0</td>\n",
       "      <td>Revolving loans</td>\n",
       "      <td>F</td>\n",
       "      <td>1</td>\n",
       "      <td>67500.0</td>\n",
       "      <td>202500.0</td>\n",
       "      <td>10125.0</td>\n",
       "      <td>202500.0</td>\n",
       "      <td>...</td>\n",
       "      <td>0.572805</td>\n",
       "      <td>0.608276</td>\n",
       "      <td>NaN</td>\n",
       "      <td>21955.500</td>\n",
       "      <td>19759.500</td>\n",
       "      <td>Approved</td>\n",
       "      <td>Consumer loans</td>\n",
       "      <td>4.0</td>\n",
       "      <td>1</td>\n",
       "      <td>0.000</td>\n",
       "    </tr>\n",
       "    <tr>\n",
       "      <th>1</th>\n",
       "      <td>264803</td>\n",
       "      <td>406644</td>\n",
       "      <td>0</td>\n",
       "      <td>Cash loans</td>\n",
       "      <td>F</td>\n",
       "      <td>1</td>\n",
       "      <td>202500.0</td>\n",
       "      <td>976711.5</td>\n",
       "      <td>49869.0</td>\n",
       "      <td>873000.0</td>\n",
       "      <td>...</td>\n",
       "      <td>0.655600</td>\n",
       "      <td>0.684298</td>\n",
       "      <td>NaN</td>\n",
       "      <td>174600.000</td>\n",
       "      <td>212754.150</td>\n",
       "      <td>Canceled</td>\n",
       "      <td>Revolving loans</td>\n",
       "      <td>17.4</td>\n",
       "      <td>8</td>\n",
       "      <td>-9965.925</td>\n",
       "    </tr>\n",
       "    <tr>\n",
       "      <th>2</th>\n",
       "      <td>137208</td>\n",
       "      <td>259130</td>\n",
       "      <td>0</td>\n",
       "      <td>Cash loans</td>\n",
       "      <td>F</td>\n",
       "      <td>0</td>\n",
       "      <td>180000.0</td>\n",
       "      <td>407520.0</td>\n",
       "      <td>25060.5</td>\n",
       "      <td>360000.0</td>\n",
       "      <td>...</td>\n",
       "      <td>NaN</td>\n",
       "      <td>0.580687</td>\n",
       "      <td>0.749022</td>\n",
       "      <td>148528.500</td>\n",
       "      <td>318550.500</td>\n",
       "      <td>Refused</td>\n",
       "      <td>Revolving loans</td>\n",
       "      <td>8.0</td>\n",
       "      <td>3</td>\n",
       "      <td>0.000</td>\n",
       "    </tr>\n",
       "    <tr>\n",
       "      <th>3</th>\n",
       "      <td>269220</td>\n",
       "      <td>411997</td>\n",
       "      <td>0</td>\n",
       "      <td>Cash loans</td>\n",
       "      <td>M</td>\n",
       "      <td>0</td>\n",
       "      <td>225000.0</td>\n",
       "      <td>808650.0</td>\n",
       "      <td>26086.5</td>\n",
       "      <td>675000.0</td>\n",
       "      <td>...</td>\n",
       "      <td>NaN</td>\n",
       "      <td>0.623740</td>\n",
       "      <td>0.710674</td>\n",
       "      <td>136906.875</td>\n",
       "      <td>149358.375</td>\n",
       "      <td>Approved</td>\n",
       "      <td>Revolving loans</td>\n",
       "      <td>10.5</td>\n",
       "      <td>4</td>\n",
       "      <td>79958.700</td>\n",
       "    </tr>\n",
       "    <tr>\n",
       "      <th>4</th>\n",
       "      <td>122096</td>\n",
       "      <td>241559</td>\n",
       "      <td>0</td>\n",
       "      <td>Revolving loans</td>\n",
       "      <td>M</td>\n",
       "      <td>0</td>\n",
       "      <td>135000.0</td>\n",
       "      <td>180000.0</td>\n",
       "      <td>9000.0</td>\n",
       "      <td>180000.0</td>\n",
       "      <td>...</td>\n",
       "      <td>0.175511</td>\n",
       "      <td>0.492994</td>\n",
       "      <td>0.085595</td>\n",
       "      <td>162619.500</td>\n",
       "      <td>170830.500</td>\n",
       "      <td>Refused</td>\n",
       "      <td>Consumer loans</td>\n",
       "      <td>11.0</td>\n",
       "      <td>5</td>\n",
       "      <td>25020.720</td>\n",
       "    </tr>\n",
       "  </tbody>\n",
       "</table>\n",
       "<p>5 rows × 31 columns</p>\n",
       "</div>"
      ],
      "text/plain": [
       "   Unnamed: 0   LN_ID  TARGET    CONTRACT_TYPE GENDER  NUM_CHILDREN    INCOME  \\\n",
       "0      201468  333538       0  Revolving loans      F             1   67500.0   \n",
       "1      264803  406644       0       Cash loans      F             1  202500.0   \n",
       "2      137208  259130       0       Cash loans      F             0  180000.0   \n",
       "3      269220  411997       0       Cash loans      M             0  225000.0   \n",
       "4      122096  241559       0  Revolving loans      M             0  135000.0   \n",
       "\n",
       "   APPROVED_CREDIT  ANNUITY     PRICE    ...     EXT_SCORE_1 EXT_SCORE_2  \\\n",
       "0         202500.0  10125.0  202500.0    ...        0.572805    0.608276   \n",
       "1         976711.5  49869.0  873000.0    ...        0.655600    0.684298   \n",
       "2         407520.0  25060.5  360000.0    ...             NaN    0.580687   \n",
       "3         808650.0  26086.5  675000.0    ...             NaN    0.623740   \n",
       "4         180000.0   9000.0  180000.0    ...        0.175511    0.492994   \n",
       "\n",
       "  EXT_SCORE_3 APPLICATION  APPROVED_CREDIT_prev  CONTRACT_STATUS  \\\n",
       "0         NaN   21955.500             19759.500         Approved   \n",
       "1         NaN  174600.000            212754.150         Canceled   \n",
       "2    0.749022  148528.500            318550.500          Refused   \n",
       "3    0.710674  136906.875            149358.375         Approved   \n",
       "4    0.085595  162619.500            170830.500          Refused   \n",
       "\n",
       "   CONTRACT_TYPE_prev  TERM_PAYMENT SK_ID_PREV_count       diff  \n",
       "0      Consumer loans           4.0                1      0.000  \n",
       "1     Revolving loans          17.4                8  -9965.925  \n",
       "2     Revolving loans           8.0                3      0.000  \n",
       "3     Revolving loans          10.5                4  79958.700  \n",
       "4      Consumer loans          11.0                5  25020.720  \n",
       "\n",
       "[5 rows x 31 columns]"
      ]
     },
     "execution_count": 259,
     "metadata": {},
     "output_type": "execute_result"
    }
   ],
   "source": [
    "train_app2.head()"
   ]
  },
  {
   "cell_type": "code",
   "execution_count": 260,
   "metadata": {},
   "outputs": [],
   "source": [
    "train_app2.drop('Unnamed: 0', axis=1, inplace=True)"
   ]
  },
  {
   "cell_type": "code",
   "execution_count": 261,
   "metadata": {
    "collapsed": true
   },
   "outputs": [],
   "source": [
    "#treating the categorical variables to be fed int the model"
   ]
  },
  {
   "cell_type": "code",
   "execution_count": 262,
   "metadata": {},
   "outputs": [],
   "source": [
    "def categorical_treator(col,data):\n",
    "    value_dict={}\n",
    "    j=list(data[col].unique())\n",
    "    for vals in j:\n",
    "        print(vals)\n",
    "        df2=data[data[col]==vals]\n",
    "        m=df2.TARGET.mean()\n",
    "        value_dict.update({vals :m} )\n",
    "    data=data.replace({col: value_dict})    \n",
    "    return data\n",
    "\n"
   ]
  },
  {
   "cell_type": "code",
   "execution_count": null,
   "metadata": {
    "collapsed": true
   },
   "outputs": [],
   "source": [
    "train_app2=categorical_treator(\"CONTRACT_TYPE\",train_app2)\n",
    "train_app2=categorical_treator(\"GENDER\",train_app2)\n",
    "train_app2=categorical_treator(\"INCOME_TYPE\",train_app2)\n",
    "\n",
    "\n",
    "train_app2=categorical_treator(\"EDUCATION\",train_app2)\n",
    "train_app2=categorical_treator(\"FAMILY_STATUS\",train_app2)\n",
    "train_app2=categorical_treator(\"HOUSING_TYPE\",train_app2)\n",
    "\n",
    "train_app2=categorical_treator(\"WEEKDAYS_APPLY\",train_app2)\n",
    "train_app2=categorical_treator(\"ORGANIZATION_TYPE\",train_app2)\n",
    "train_app2=categorical_treator(\"CONTRACT_STATUS\",train_app2)\n",
    "train_app2=categorical_treator(\"CONTRACT_TYPE_prev\",train_app2)\n",
    "#df=categorical_treator(\"INCOME_TYPE\",df)"
   ]
  },
  {
   "cell_type": "code",
   "execution_count": 264,
   "metadata": {
    "collapsed": true
   },
   "outputs": [],
   "source": [
    "train_app2.fillna(0,inplace=True)"
   ]
  },
  {
   "cell_type": "code",
   "execution_count": 265,
   "metadata": {
    "collapsed": true
   },
   "outputs": [],
   "source": [
    "train_app2.to_csv(\"train_app2.csv\",index=False)"
   ]
  },
  {
   "cell_type": "code",
   "execution_count": 244,
   "metadata": {
    "collapsed": true
   },
   "outputs": [],
   "source": [
    "#selcting variables needed for modelling "
   ]
  },
  {
   "cell_type": "code",
   "execution_count": 245,
   "metadata": {},
   "outputs": [
    {
     "name": "stderr",
     "output_type": "stream",
     "text": [
      "/opt/python/python35/lib/python3.5/site-packages/sklearn/ensemble/forest.py:248: FutureWarning: The default value of n_estimators will change from 10 in version 0.20 to 100 in 0.22.\n",
      "  \"10 in version 0.20 to 100 in 0.22.\", FutureWarning)\n"
     ]
    },
    {
     "name": "stdout",
     "output_type": "stream",
     "text": [
      "[0.00631723 0.01075374 0.02582148 0.04173587 0.04142506 0.04151807\n",
      " 0.0378064  0.02016998 0.01854633 0.02795278 0.02041026 0.04619311\n",
      " 0.03793947 0.04558098 0.04595434 0.03844321 0.04394267 0.03836962\n",
      " 0.03510866 0.06424962 0.05723624 0.04131205 0.03974755 0.02430089\n",
      " 0.02332711 0.04542802 0.03873817 0.04167109]\n"
     ]
    },
    {
     "data": {
      "image/png": "[encoded data removed]",
      "text/plain": [
       "<Figure size 432x288 with 1 Axes>"
      ]
     },
     "metadata": {},
     "output_type": "display_data"
    }
   ],
   "source": [
    "X = train_app2.iloc[:,2:30]  #independent columns\n",
    "y = train_app2.iloc[:,1]    #target column \n",
    "from sklearn.ensemble import ExtraTreesClassifier\n",
    "import matplotlib.pyplot as plt\n",
    "model = ExtraTreesClassifier()\n",
    "model.fit(X,y)\n",
    "print(model.feature_importances_) #use inbuilt class feature_importances of tree based classifiers\n",
    "#plot graph of feature importances for better visualization\n",
    "feat_importances = pd.Series(model.feature_importances_, index=X.columns)\n",
    "feat_importances.nlargest(30).plot(kind='barh')\n",
    "plt.show()"
   ]
  },
  {
   "cell_type": "code",
   "execution_count": 247,
   "metadata": {},
   "outputs": [
    {
     "data": {
      "text/plain": [
       "Index(['LN_ID', 'TARGET', 'CONTRACT_TYPE', 'GENDER', 'NUM_CHILDREN', 'INCOME',\n",
       "       'APPROVED_CREDIT', 'ANNUITY', 'PRICE', 'INCOME_TYPE', 'EDUCATION',\n",
       "       'FAMILY_STATUS', 'HOUSING_TYPE', 'DAYS_AGE', 'DAYS_WORK',\n",
       "       'DAYS_REGISTRATION', 'DAYS_ID_CHANGE', 'WEEKDAYS_APPLY', 'HOUR_APPLY',\n",
       "       'ORGANIZATION_TYPE', 'EXT_SCORE_1', 'EXT_SCORE_2', 'EXT_SCORE_3',\n",
       "       'APPLICATION', 'APPROVED_CREDIT_prev', 'CONTRACT_STATUS',\n",
       "       'CONTRACT_TYPE_prev', 'TERM_PAYMENT', 'SK_ID_PREV_count', 'diff'],\n",
       "      dtype='object')"
      ]
     },
     "execution_count": 247,
     "metadata": {},
     "output_type": "execute_result"
    }
   ],
   "source": [
    "train_app2.columns"
   ]
  },
  {
   "cell_type": "code",
   "execution_count": 250,
   "metadata": {},
   "outputs": [
    {
     "data": {
      "image/png": "[encoded data removed]",
      "text/plain": [
       "<Figure size 1440x1440 with 2 Axes>"
      ]
     },
     "metadata": {},
     "output_type": "display_data"
    }
   ],
   "source": [
    "import seaborn as sns\n",
    "X = train_app2.iloc[:,2:30]  #independent columns\n",
    "y = train_app2.iloc[:,1]\n",
    "train_app3 = train_app2[[\"TARGET\",'ANNUITY', 'PRICE', 'INCOME_TYPE', 'EDUCATION',\n",
    "       'FAMILY_STATUS', 'HOUSING_TYPE', 'DAYS_AGE', 'DAYS_WORK',\n",
    "       'DAYS_REGISTRATION', 'DAYS_ID_CHANGE', 'WEEKDAYS_APPLY', 'HOUR_APPLY',\n",
    "       'ORGANIZATION_TYPE', 'INCOME', 'EXT_SCORE_2', 'EXT_SCORE_3',\n",
    "       'APPLICATION', 'APPROVED_CREDIT_prev', 'CONTRACT_STATUS',\n",
    "       'CONTRACT_TYPE_prev', 'TERM_PAYMENT', 'SK_ID_PREV_count', 'diff']]\n",
    "corrmat = train_app3.corr()\n",
    "top_corr_features = corrmat.index\n",
    "plt.figure(figsize=(20,20))\n",
    "#plot heat map\n",
    "g=sns.heatmap(train_app3[top_corr_features].corr(),annot=True,cmap=\"RdYlGn\")\n",
    "plt.show()"
   ]
  },
  {
   "cell_type": "code",
   "execution_count": null,
   "metadata": {
    "collapsed": true
   },
   "outputs": [],
   "source": [
    "When we consider the variable ranking and correlation graph we can see the three most important variables are \n",
    "1.EXT_SCORE_2\n",
    "2.EXT_SCORE_3\n",
    "3.organisation_type"
   ]
  },
  {
   "cell_type": "code",
   "execution_count": null,
   "metadata": {
    "collapsed": true
   },
   "outputs": [],
   "source": [
    "#preparing test data "
   ]
  },
  {
   "cell_type": "code",
   "execution_count": null,
   "metadata": {
    "collapsed": true
   },
   "outputs": [],
   "source": [
    "test_app =pd.read_csv(\"app_test.csv\")\n",
    "\n",
    "Extra_vals = pd.read_csv(\"Extravals.csv\")\n",
    "\n",
    "test_app2 = pd.merge(test_app,Extra_vals,on=\"LN_ID\")\n",
    "\n",
    "test_app2.head()\n",
    "\n",
    "test_app2.drop('Unnamed: 0', axis=1, inplace=True)\n",
    "\n",
    "#treating the categorical variables to be fed int the model\n",
    "\n",
    "def categorical_treator(col,data):\n",
    "    value_dict={}\n",
    "    j=list(data[col].unique())\n",
    "    for vals in j:\n",
    "        print(vals)\n",
    "        df2=data[data[col]==vals]\n",
    "        m=df2.TARGET.mean()\n",
    "        value_dict.update({vals :m} )\n",
    "    data=data.replace({col: value_dict})    \n",
    "    return data\n",
    "\n",
    "\n",
    "\n",
    "test_app2=categorical_treator(\"CONTRACT_TYPE\",test_app2)\n",
    "test_app2=categorical_treator(\"GENDER\",test_app2)\n",
    "test_app2=categorical_treator(\"INCOME_TYPE\",test_app2)\n",
    "\n",
    "\n",
    "test_app2=categorical_treator(\"EDUCATION\",test_app2)\n",
    "test_app2=categorical_treator(\"FAMILY_STATUS\",test_app2)\n",
    "test_app2=categorical_treator(\"HOUSING_TYPE\",test_app2)\n",
    "\n",
    "test_app2=categorical_treator(\"WEEKDAYS_APPLY\",test_app2)\n",
    "test_app2=categorical_treator(\"ORGANIZATION_TYPE\",test_app2)\n",
    "test_app2=categorical_treator(\"CONTRACT_STATUS\",test_app2)\n",
    "test_app2=categorical_treator(\"CONTRACT_TYPE_prev\",test_app2)\n",
    "#df=categorical_treator(\"INCOME_TYPE\",df)\n",
    "\n",
    "test_app2.fillna(0,inplace=True)\n",
    "test_app2.to_csv(\"test_app2.csv\",index=False)"
   ]
  },
  {
   "cell_type": "markdown",
   "metadata": {},
   "source": [
    "# Building the model"
   ]
  },
  {
   "cell_type": "code",
   "execution_count": 252,
   "metadata": {
    "collapsed": true
   },
   "outputs": [],
   "source": [
    "df_model_train = pd.read_csv(\"train_app2.csv\")"
   ]
  },
  {
   "cell_type": "code",
   "execution_count": 253,
   "metadata": {},
   "outputs": [
    {
     "data": {
      "text/html": [
       "<div>\n",
       "<style scoped>\n",
       "    .dataframe tbody tr th:only-of-type {\n",
       "        vertical-align: middle;\n",
       "    }\n",
       "\n",
       "    .dataframe tbody tr th {\n",
       "        vertical-align: top;\n",
       "    }\n",
       "\n",
       "    .dataframe thead th {\n",
       "        text-align: right;\n",
       "    }\n",
       "</style>\n",
       "<table border=\"1\" class=\"dataframe\">\n",
       "  <thead>\n",
       "    <tr style=\"text-align: right;\">\n",
       "      <th></th>\n",
       "      <th>LN_ID</th>\n",
       "      <th>TARGET</th>\n",
       "      <th>CONTRACT_TYPE</th>\n",
       "      <th>GENDER</th>\n",
       "      <th>NUM_CHILDREN</th>\n",
       "      <th>INCOME</th>\n",
       "      <th>APPROVED_CREDIT</th>\n",
       "      <th>ANNUITY</th>\n",
       "      <th>PRICE</th>\n",
       "      <th>INCOME_TYPE</th>\n",
       "      <th>...</th>\n",
       "      <th>EXT_SCORE_1</th>\n",
       "      <th>EXT_SCORE_2</th>\n",
       "      <th>EXT_SCORE_3</th>\n",
       "      <th>APPLICATION</th>\n",
       "      <th>APPROVED_CREDIT_prev</th>\n",
       "      <th>CONTRACT_STATUS</th>\n",
       "      <th>CONTRACT_TYPE_prev</th>\n",
       "      <th>TERM_PAYMENT</th>\n",
       "      <th>SK_ID_PREV_count</th>\n",
       "      <th>diff</th>\n",
       "    </tr>\n",
       "  </thead>\n",
       "  <tbody>\n",
       "    <tr>\n",
       "      <th>0</th>\n",
       "      <td>333538</td>\n",
       "      <td>0</td>\n",
       "      <td>0.056354</td>\n",
       "      <td>0.069801</td>\n",
       "      <td>1</td>\n",
       "      <td>67500.0</td>\n",
       "      <td>202500.0</td>\n",
       "      <td>10125.0</td>\n",
       "      <td>202500.0</td>\n",
       "      <td>0.098044</td>\n",
       "      <td>...</td>\n",
       "      <td>0.572805</td>\n",
       "      <td>0.608276</td>\n",
       "      <td>0.000000</td>\n",
       "      <td>21955.500</td>\n",
       "      <td>19759.500</td>\n",
       "      <td>0.073459</td>\n",
       "      <td>0.074041</td>\n",
       "      <td>4.0</td>\n",
       "      <td>1</td>\n",
       "      <td>0.000</td>\n",
       "    </tr>\n",
       "    <tr>\n",
       "      <th>1</th>\n",
       "      <td>406644</td>\n",
       "      <td>0</td>\n",
       "      <td>0.084502</td>\n",
       "      <td>0.069801</td>\n",
       "      <td>1</td>\n",
       "      <td>202500.0</td>\n",
       "      <td>976711.5</td>\n",
       "      <td>49869.0</td>\n",
       "      <td>873000.0</td>\n",
       "      <td>0.077410</td>\n",
       "      <td>...</td>\n",
       "      <td>0.655600</td>\n",
       "      <td>0.684298</td>\n",
       "      <td>0.000000</td>\n",
       "      <td>174600.000</td>\n",
       "      <td>212754.150</td>\n",
       "      <td>0.066413</td>\n",
       "      <td>0.095268</td>\n",
       "      <td>17.4</td>\n",
       "      <td>8</td>\n",
       "      <td>-9965.925</td>\n",
       "    </tr>\n",
       "    <tr>\n",
       "      <th>2</th>\n",
       "      <td>259130</td>\n",
       "      <td>0</td>\n",
       "      <td>0.084502</td>\n",
       "      <td>0.069801</td>\n",
       "      <td>0</td>\n",
       "      <td>180000.0</td>\n",
       "      <td>407520.0</td>\n",
       "      <td>25060.5</td>\n",
       "      <td>360000.0</td>\n",
       "      <td>0.051352</td>\n",
       "      <td>...</td>\n",
       "      <td>0.000000</td>\n",
       "      <td>0.580687</td>\n",
       "      <td>0.749022</td>\n",
       "      <td>148528.500</td>\n",
       "      <td>318550.500</td>\n",
       "      <td>0.102059</td>\n",
       "      <td>0.095268</td>\n",
       "      <td>8.0</td>\n",
       "      <td>3</td>\n",
       "      <td>0.000</td>\n",
       "    </tr>\n",
       "    <tr>\n",
       "      <th>3</th>\n",
       "      <td>411997</td>\n",
       "      <td>0</td>\n",
       "      <td>0.084502</td>\n",
       "      <td>0.105964</td>\n",
       "      <td>0</td>\n",
       "      <td>225000.0</td>\n",
       "      <td>808650.0</td>\n",
       "      <td>26086.5</td>\n",
       "      <td>675000.0</td>\n",
       "      <td>0.057766</td>\n",
       "      <td>...</td>\n",
       "      <td>0.000000</td>\n",
       "      <td>0.623740</td>\n",
       "      <td>0.710674</td>\n",
       "      <td>136906.875</td>\n",
       "      <td>149358.375</td>\n",
       "      <td>0.073459</td>\n",
       "      <td>0.095268</td>\n",
       "      <td>10.5</td>\n",
       "      <td>4</td>\n",
       "      <td>79958.700</td>\n",
       "    </tr>\n",
       "    <tr>\n",
       "      <th>4</th>\n",
       "      <td>241559</td>\n",
       "      <td>0</td>\n",
       "      <td>0.056354</td>\n",
       "      <td>0.105964</td>\n",
       "      <td>0</td>\n",
       "      <td>135000.0</td>\n",
       "      <td>180000.0</td>\n",
       "      <td>9000.0</td>\n",
       "      <td>180000.0</td>\n",
       "      <td>0.077410</td>\n",
       "      <td>...</td>\n",
       "      <td>0.175511</td>\n",
       "      <td>0.492994</td>\n",
       "      <td>0.085595</td>\n",
       "      <td>162619.500</td>\n",
       "      <td>170830.500</td>\n",
       "      <td>0.102059</td>\n",
       "      <td>0.074041</td>\n",
       "      <td>11.0</td>\n",
       "      <td>5</td>\n",
       "      <td>25020.720</td>\n",
       "    </tr>\n",
       "  </tbody>\n",
       "</table>\n",
       "<p>5 rows × 30 columns</p>\n",
       "</div>"
      ],
      "text/plain": [
       "    LN_ID  TARGET  CONTRACT_TYPE    GENDER  NUM_CHILDREN    INCOME  \\\n",
       "0  333538       0       0.056354  0.069801             1   67500.0   \n",
       "1  406644       0       0.084502  0.069801             1  202500.0   \n",
       "2  259130       0       0.084502  0.069801             0  180000.0   \n",
       "3  411997       0       0.084502  0.105964             0  225000.0   \n",
       "4  241559       0       0.056354  0.105964             0  135000.0   \n",
       "\n",
       "   APPROVED_CREDIT  ANNUITY     PRICE  INCOME_TYPE    ...      EXT_SCORE_1  \\\n",
       "0         202500.0  10125.0  202500.0     0.098044    ...         0.572805   \n",
       "1         976711.5  49869.0  873000.0     0.077410    ...         0.655600   \n",
       "2         407520.0  25060.5  360000.0     0.051352    ...         0.000000   \n",
       "3         808650.0  26086.5  675000.0     0.057766    ...         0.000000   \n",
       "4         180000.0   9000.0  180000.0     0.077410    ...         0.175511   \n",
       "\n",
       "   EXT_SCORE_2  EXT_SCORE_3  APPLICATION  APPROVED_CREDIT_prev  \\\n",
       "0     0.608276     0.000000    21955.500             19759.500   \n",
       "1     0.684298     0.000000   174600.000            212754.150   \n",
       "2     0.580687     0.749022   148528.500            318550.500   \n",
       "3     0.623740     0.710674   136906.875            149358.375   \n",
       "4     0.492994     0.085595   162619.500            170830.500   \n",
       "\n",
       "   CONTRACT_STATUS  CONTRACT_TYPE_prev  TERM_PAYMENT  SK_ID_PREV_count  \\\n",
       "0         0.073459            0.074041           4.0                 1   \n",
       "1         0.066413            0.095268          17.4                 8   \n",
       "2         0.102059            0.095268           8.0                 3   \n",
       "3         0.073459            0.095268          10.5                 4   \n",
       "4         0.102059            0.074041          11.0                 5   \n",
       "\n",
       "        diff  \n",
       "0      0.000  \n",
       "1  -9965.925  \n",
       "2      0.000  \n",
       "3  79958.700  \n",
       "4  25020.720  \n",
       "\n",
       "[5 rows x 30 columns]"
      ]
     },
     "execution_count": 253,
     "metadata": {},
     "output_type": "execute_result"
    }
   ],
   "source": []
  },
  {
   "cell_type": "code",
   "execution_count": 267,
   "metadata": {},
   "outputs": [
    {
     "name": "stdout",
     "output_type": "stream",
     "text": [
      "0.90\n",
      "[05:07:44] WARNING: /workspace/src/objective/regression_obj.cu:152: reg:linear is now deprecated in favor of reg:squarederror.\n"
     ]
    }
   ],
   "source": [
    "df_model_train = pd.read_csv(\"train_app2.csv\")\n",
    "\n",
    "y = pd.DataFrame(df_model_train[\"TARGET\"])\n",
    "\n",
    "h=pd.DataFrame(df_model_train.drop('TARGET', axis=1))\n",
    "\n",
    "\n",
    "import xgboost as xgb\n",
    "print(xgb.__version__)\n",
    "\n",
    "dtrain = xgb.DMatrix(h, label=y)\n",
    "\n",
    "param = {\n",
    "    'max_depth': 5,  \n",
    "    'learning_rate': .1,  \n",
    "    'objective':'reg:linear',\n",
    "    'min_child_weight':100,\n",
    "    'tree_method':'exact'\n",
    "    \n",
    "}\n",
    "\n",
    "\n",
    "\n",
    "model = xgb.train(param, dtrain,num_boost_round=1000)\n",
    "\n",
    "filename = 'model_xgb_cermati.sav'\n",
    "pickle.dump(model, open(filename, 'wb'))"
   ]
  },
  {
   "cell_type": "code",
   "execution_count": 268,
   "metadata": {},
   "outputs": [
    {
     "name": "stdout",
     "output_type": "stream",
     "text": [
      "0.90\n",
      "[05:08:39] WARNING: /workspace/src/objective/regression_obj.cu:152: reg:linear is now deprecated in favor of reg:squarederror.\n"
     ]
    }
   ],
   "source": [
    "df_model_test = pd.read_csv(\"test_app2.csv\")\n",
    "y = pd.DataFrame(df_model_test[\"TARGET\"])\n",
    "\n",
    "h=pd.DataFrame(df_model_test.drop('TARGET', axis=1))\n",
    "\n",
    "import xgboost as xgb\n",
    "print(xgb.__version__)\n",
    "\n",
    "dtest = xgb.DMatrix(h, label=y)\n",
    "\n",
    "filename = 'model_xgb_cermati.sav'\n",
    "loaded_model = pickle.load(open(filename, 'rb'))\n",
    "\n",
    "y_pred = loaded_model.predict(dtest,pred_leaf=False)\n",
    "\n",
    "a = list(y_pred)\n",
    "\n",
    "\n",
    "t=pd.DataFrame(a,columns=[\"pred\"])\n",
    "\n",
    "t[\"Actual_price\"] = list(y[\"TARGET\"])\n",
    "\n",
    "t.to_csv(\"cermati_score.csv\",index=False)\n"
   ]
  },
  {
   "cell_type": "code",
   "execution_count": null,
   "metadata": {
    "collapsed": true
   },
   "outputs": [],
   "source": [
    "#evaluating the score"
   ]
  },
  {
   "cell_type": "code",
   "execution_count": 270,
   "metadata": {
    "collapsed": true
   },
   "outputs": [],
   "source": [
    "scores = pd.read_csv(\"cermati_score.csv\")"
   ]
  },
  {
   "cell_type": "code",
   "execution_count": 271,
   "metadata": {},
   "outputs": [
    {
     "data": {
      "text/plain": [
       "array([[12729,    27],\n",
       "       [ 1129,    25]])"
      ]
     },
     "execution_count": 271,
     "metadata": {},
     "output_type": "execute_result"
    }
   ],
   "source": [
    "from sklearn.metrics import confusion_matrix\n",
    "\n",
    "cut_off=0.5\n",
    "scores.loc[(scores.pred <cut_off),'scores_class']=0\n",
    "scores.loc[(scores.pred >cut_off),'scores_class']=1\n",
    "\n",
    "\n",
    "predicted=scores[\"scores_class\"]\n",
    "Y_test =scores[\"Actual_price\"]\n",
    "matrix = confusion_matrix(Y_test, predicted)\n",
    "\n",
    "matrix\n",
    "\n"
   ]
  },
  {
   "cell_type": "code",
   "execution_count": 272,
   "metadata": {},
   "outputs": [
    {
     "name": "stdout",
     "output_type": "stream",
     "text": [
      "0.9168943206326384\n"
     ]
    }
   ],
   "source": [
    "from sklearn import metrics\n",
    "print(metrics.accuracy_score(Y_test, predicted))\n"
   ]
  },
  {
   "cell_type": "code",
   "execution_count": 273,
   "metadata": {},
   "outputs": [
    {
     "name": "stdout",
     "output_type": "stream",
     "text": [
      "0.021663778162911613\n"
     ]
    }
   ],
   "source": [
    "\n",
    "print(metrics.recall_score(Y_test, predicted))"
   ]
  },
  {
   "cell_type": "code",
   "execution_count": 275,
   "metadata": {},
   "outputs": [
    {
     "name": "stdout",
     "output_type": "stream",
     "text": [
      "0.4807692307692308\n"
     ]
    }
   ],
   "source": [
    "print(metrics.precision_score(Y_test, predicted))\n",
    "\n"
   ]
  },
  {
   "cell_type": "code",
   "execution_count": 276,
   "metadata": {},
   "outputs": [
    {
     "data": {
      "text/plain": [
       "0.5097735635875705"
      ]
     },
     "execution_count": 276,
     "metadata": {},
     "output_type": "execute_result"
    }
   ],
   "source": [
    "fpr, tpr, thresholds = metrics.roc_curve(Y_test, predicted)\n",
    "metrics.auc(fpr, tpr)"
   ]
  },
  {
   "cell_type": "code",
   "execution_count": null,
   "metadata": {
    "collapsed": true
   },
   "outputs": [],
   "source": []
  }
 ],
 "metadata": {
  "kernelspec": {
   "display_name": "Python 3",
   "language": "python",
   "name": "python3"
  },
  "language_info": {
   "codemirror_mode": {
    "name": "ipython",
    "version": 3
   },
   "file_extension": ".py",
   "mimetype": "text/x-python",
   "name": "python",
   "nbconvert_exporter": "python",
   "pygments_lexer": "ipython3",
   "version": "3.5.3"
  }
 },
 "nbformat": 4,
 "nbformat_minor": 2
}
